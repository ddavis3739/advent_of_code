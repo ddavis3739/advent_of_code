{
 "cells": [
  {
   "cell_type": "code",
   "execution_count": 78,
   "id": "659bb26e",
   "metadata": {},
   "outputs": [],
   "source": [
    "# --- Day 1: Sonar Sweep ---\n",
    "#   You're minding your own business on a ship at sea when the overboard alarm goes off! You rush to see if you can help. Apparently, one of the Elves tripped and accidentally sent the sleigh keys flying into the ocean!\n",
    "# \n",
    "# Before you know it, you're inside a submarine the Elves keep ready for situations like this. It's covered in Christmas lights (because of course it is), and it even has an experimental antenna that should be able to track the keys if you can boost its signal strength high enough; there's a little meter that indicates the antenna's signal strength by displaying 0-50 stars.\n",
    "# \n",
    "# Your instincts tell you that in order to save Christmas, you'll need to get all fifty stars by December 25th.\n",
    "# \n",
    "# Collect stars by solving puzzles. Two puzzles will be made available on each day in the Advent calendar; the second puzzle is unlocked when you complete the first. Each puzzle grants one star. Good luck!\n",
    "#   \n",
    "#   As the submarine drops below the surface of the ocean, it automatically performs a sonar sweep of the nearby sea floor. On a small screen, the sonar sweep report (your puzzle input) appears: each line is a measurement of the sea floor depth as the sweep looks further and further away from the submarine.\n",
    "# \n",
    "# For example, suppose you had the following report:\n",
    "#   \n",
    "#   199\n",
    "# 200\n",
    "# 208\n",
    "# 210\n",
    "# 200\n",
    "# 207\n",
    "# 240\n",
    "# 269\n",
    "# 260\n",
    "# 263\n",
    "# This report indicates that, scanning outward from the submarine, the sonar sweep found depths of 199, 200, 208, 210, and so on.\n",
    "# \n",
    "# The first order of business is to figure out how quickly the depth increases, just so you know what you're dealing with - you never know if the keys will get carried into deeper water by an ocean current or a fish or something.\n",
    "# \n",
    "# To do this, count the number of times a depth measurement increases from the previous measurement. (There is no measurement before the first measurement.) In the example above, the changes are as follows:\n",
    "# \n",
    "# 199 (N/A - no previous measurement)\n",
    "# 200 (increased)\n",
    "# 208 (increased)\n",
    "# 210 (increased)\n",
    "# 200 (decreased)\n",
    "# 207 (increased)\n",
    "# 240 (increased)\n",
    "# 269 (increased)\n",
    "# 260 (decreased)\n",
    "# 263 (increased)\n",
    "# In this example, there are 7 measurements that are larger than the previous measurement.\n",
    "# \n",
    "# How many measurements are larger than the previous measurement?\n",
    "# \n",
    "# Your puzzle answer was 1715.\n",
    "# \n",
    "# --- Part Two ---\n",
    "# Considering every single measurement isn't as useful as you expected: there's just too much noise in the data.\n",
    "# \n",
    "# Instead, consider sums of a three-measurement sliding window. Again considering the above example:\n",
    "# \n",
    "# 199  A      \n",
    "# 200  A B    \n",
    "# 208  A B C  \n",
    "# 210    B C D\n",
    "# 200  E   C D\n",
    "# 207  E F   D\n",
    "# 240  E F G  \n",
    "# 269    F G H\n",
    "# 260      G H\n",
    "# 263        H\n",
    "# Start by comparing the first and second three-measurement windows. The measurements in the first window are marked A (199, 200, 208); their sum is 199 + 200 + 208 = 607. The second window is marked B (200, 208, 210); its sum is 618. The sum of measurements in the second window is larger than the sum of the first, so this first comparison increased.\n",
    "# \n",
    "# Your goal now is to count the number of times the sum of measurements in this sliding window increases from the previous sum. So, compare A with B, then compare B with C, then C with D, and so on. Stop when there aren't enough measurements left to create a new three-measurement sum.\n",
    "# \n",
    "# In the above example, the sum of each three-measurement window is as follows:\n",
    "#   \n",
    "#   A: 607 (N/A - no previous sum)\n",
    "# B: 618 (increased)\n",
    "# C: 618 (no change)\n",
    "# D: 617 (decreased)\n",
    "# E: 647 (increased)\n",
    "# F: 716 (increased)\n",
    "# G: 769 (increased)\n",
    "# H: 792 (increased)\n",
    "# In this example, there are 5 sums that are larger than the previous sum.\n",
    "# \n",
    "# Consider sums of a three-measurement sliding window. How many sums are larger than the previous sum?\n",
    "#   \n",
    "#   Your puzzle answer was 1739."
   ]
  },
  {
   "cell_type": "code",
   "execution_count": 79,
   "id": "7bae0d67",
   "metadata": {},
   "outputs": [],
   "source": [
    "import pandas as pd\n",
    "import numpy as np"
   ]
  },
  {
   "cell_type": "code",
   "execution_count": 80,
   "id": "cf063763",
   "metadata": {},
   "outputs": [],
   "source": [
    "# d1 - check depth changes increase/decrease"
   ]
  },
  {
   "cell_type": "code",
   "execution_count": 81,
   "id": "8d3a93d1",
   "metadata": {},
   "outputs": [],
   "source": [
    "d1 = pd.read_csv(\"/Users/andrew.davis/Documents/personal_repos/advent_of_code_2021/data/day_1/d1_AoC.csv\", \n",
    "                 sep=\" \", \n",
    "                 header=None)\n",
    "d1.columns = ['position']"
   ]
  },
  {
   "cell_type": "code",
   "execution_count": 83,
   "id": "4b2f5907",
   "metadata": {},
   "outputs": [],
   "source": [
    "d1['depth'] = np.nan\n",
    "for idx, val in enumerate(d1['position']):\n",
    "    #print(idx, val)\n",
    "    \n",
    "    if idx == 0:\n",
    "        next\n",
    "    else: \n",
    "        d1.loc[idx, 'depth'] = (d1['position'][idx] - d1['position'][idx - 1]) > 0\n"
   ]
  },
  {
   "cell_type": "code",
   "execution_count": 84,
   "id": "28a313b8",
   "metadata": {},
   "outputs": [
    {
     "data": {
      "text/plain": [
       "1715"
      ]
     },
     "execution_count": 84,
     "metadata": {},
     "output_type": "execute_result"
    }
   ],
   "source": [
    "np.nansum(d1.depth)"
   ]
  },
  {
   "cell_type": "code",
   "execution_count": 85,
   "id": "a653e7a3",
   "metadata": {},
   "outputs": [],
   "source": [
    "# part 2 - compare in 3 depth intervals"
   ]
  },
  {
   "cell_type": "code",
   "execution_count": 86,
   "id": "42043154",
   "metadata": {},
   "outputs": [],
   "source": [
    "d2 = []\n",
    "d2_depth = []"
   ]
  },
  {
   "cell_type": "code",
   "execution_count": 87,
   "id": "f12977c5",
   "metadata": {},
   "outputs": [],
   "source": [
    "for idx, val in enumerate(d1['position']):\n",
    "    #print(idx, val)\n",
    "    if idx in [0,1]:\n",
    "        d2.append(np.nan)\n",
    "        continue\n",
    "    else:\n",
    "        d2.append(\n",
    "            sum(\n",
    "            [d1.position[int(idx)-2],\n",
    "            d1.position[int(idx)-1],\n",
    "            d1.position[int(idx)]]\n",
    "            )\n",
    "        )\n",
    "    d2_depth.append((d2[idx] - d2[idx-1]) > 0)"
   ]
  },
  {
   "cell_type": "code",
   "execution_count": 88,
   "id": "09a34a00",
   "metadata": {},
   "outputs": [
    {
     "data": {
      "text/plain": [
       "1739"
      ]
     },
     "execution_count": 88,
     "metadata": {},
     "output_type": "execute_result"
    }
   ],
   "source": [
    "np.nansum(d2_depth)"
   ]
  },
  {
   "cell_type": "code",
   "execution_count": null,
   "id": "03142353",
   "metadata": {},
   "outputs": [],
   "source": []
  },
  {
   "cell_type": "code",
   "execution_count": null,
   "id": "c70c1565",
   "metadata": {},
   "outputs": [],
   "source": []
  }
 ],
 "metadata": {
  "kernelspec": {
   "display_name": "Python 3.8.9 64-bit",
   "language": "python",
   "name": "python3"
  },
  "language_info": {
   "codemirror_mode": {
    "name": "ipython",
    "version": 3
   },
   "file_extension": ".py",
   "mimetype": "text/x-python",
   "name": "python",
   "nbconvert_exporter": "python",
   "pygments_lexer": "ipython3",
   "version": "3.8.9"
  },
  "vscode": {
   "interpreter": {
    "hash": "31f2aee4e71d21fbe5cf8b01ff0e069b9275f58929596ceb00d14d90e3e16cd6"
   }
  }
 },
 "nbformat": 4,
 "nbformat_minor": 5
}
