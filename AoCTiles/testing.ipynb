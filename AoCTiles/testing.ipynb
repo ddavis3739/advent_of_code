{
 "cells": [
  {
   "cell_type": "code",
   "execution_count": 62,
   "metadata": {},
   "outputs": [],
   "source": [
    "import functools\n",
    "import itertools\n",
    "import math\n",
    "from collections import namedtuple\n",
    "from functools import cache\n",
    "from pathlib import Path\n",
    "import re\n",
    "\n",
    "import requests\n",
    "from PIL import Image, ImageColor\n",
    "import yaml\n",
    "from PIL.ImageDraw import ImageDraw\n",
    "from PIL import ImageFont"
   ]
  },
  {
   "cell_type": "code",
   "execution_count": 63,
   "metadata": {},
   "outputs": [],
   "source": [
    "AOC_DIR = Path('/Users/andrewdavis/Documents/git_repos/advent_of_code').absolute().parent.parent\n",
    "\n",
    "# The directory where the image files for the tiles are stored. This should be committed to git.\n",
    "# Year directories are created in this directory, then each day is saved as 01.png, 02.png, etc.\n",
    "IMAGE_DIR = AOC_DIR / \"Media\"\n",
    "\n",
    "# Path to the README file where the tiles should be added\n",
    "README_PATH = AOC_DIR / \"README.md\"\n",
    "\n",
    "# Path to the README file where the tiles should be added\n",
    "SESSION_COOKIE_PATH = AOC_DIR / \"session.cookie\"\n",
    "\n",
    "# Whether the graphic should be created for days that have not been completed yet. Note that missing days between\n",
    "# completed days will still be created.\n",
    "CREATE_ALL_DAYS = False\n",
    "\n",
    "# Instead of showing the time and rank you achieved this just shows whether\n",
    "# it was completed with a checkmark\n",
    "SHOW_CHECKMARK_INSTEAD_OF_TIME_RANK = False\n",
    "\n",
    "# The year and day pattern to detect directories. For example, if your day folders are\n",
    "# called \"day1\" to \"day25\" then set the pattern to r\"day\\d{1,2}\". The script extracts\n",
    "# a number from the folder and tries to guess its day that way.\n",
    "YEAR_PATTERN = r\"\\d{4}\"\n",
    "DAY_PATTERN = r\"\\d{2}\"\n",
    "CODE_PATTERN = r\"\\w{4}\""
   ]
  },
  {
   "cell_type": "code",
   "execution_count": 64,
   "metadata": {},
   "outputs": [],
   "source": [
    "def get_paths_matching_regex(path: Path, pattern: str):\n",
    "    return sorted([p for p in path.iterdir() if re.fullmatch(pattern, p.name)])\n",
    "\n",
    "def find_first_number(string: str) -> int:\n",
    "    return int(re.findall(r\"\\d+\", string)[0])\n",
    "\n",
    "def find_first_string(string: str) -> int:\n",
    "    return str(re.findall(r\"\\w+\", string)[0])\n",
    "\n",
    "def find_recursive_solution_files(directory: Path) -> list[Path]:\n",
    "    solution_paths = []\n",
    "    for path in directory.rglob('*'):\n",
    "        if path.is_file() and path.suffix in extension_to_color:\n",
    "            solution_paths.append(path)\n",
    "    return solution_paths"
   ]
  },
  {
   "cell_type": "code",
   "execution_count": 66,
   "metadata": {},
   "outputs": [
    {
     "ename": "TypeError",
     "evalue": "find_recursive_solution_files() missing 1 required positional argument: 'directory'",
     "output_type": "error",
     "traceback": [
      "\u001b[0;31m---------------------------------------------------------------------------\u001b[0m",
      "\u001b[0;31mTypeError\u001b[0m                                 Traceback (most recent call last)",
      "Cell \u001b[0;32mIn[66], line 1\u001b[0m\n\u001b[0;32m----> 1\u001b[0m find_recursive_solution_files()\n",
      "\u001b[0;31mTypeError\u001b[0m: find_recursive_solution_files() missing 1 required positional argument: 'directory'"
     ]
    }
   ],
   "source": [
    "find_recursive_solution_files()"
   ]
  },
  {
   "cell_type": "code",
   "execution_count": null,
   "metadata": {},
   "outputs": [
    {
     "name": "stdout",
     "output_type": "stream",
     "text": [
      "{}\n"
     ]
    }
   ],
   "source": [
    "year = '2022'\n",
    "solution_paths_dict[year] = {}\n",
    "day_dir = get_paths_matching_regex(year_dir, DAY_PATTERN)\n",
    "\n",
    "day = '02'\n",
    "solutions = sorted(find_recursive_solution_files(day_dir))\n",
    "solution_paths_dict[year][day] = [str(s) for s in solutions]\n",
    "\n",
    "print(solution_paths_dict)"
   ]
  },
  {
   "cell_type": "code",
   "execution_count": null,
   "metadata": {},
   "outputs": [],
   "source": [
    "solution_paths_dict: dict[int, dict[int, list[str]]] = {}\n",
    "\n",
    "# If you use a new repo for years you might just remove this if, and assign the year manually\n",
    "for year_dir in sorted(get_paths_matching_regex(AOC_DIR, YEAR_PATTERN), reverse=True):\n",
    "    year = '2022'\n",
    "    solution_paths_dict[year] = {}\n",
    "    # If you have a deep structure then you can adjust the year dir as well:\n",
    "    # year_dir = year_dir / \"src/main/kotlin/com/example/aoc\"\n",
    "    for day_dir in get_paths_matching_regex(year_dir, DAY_PATTERN):\n",
    "        day = '02'\n",
    "        solutions = sorted(find_recursive_solution_files(day_dir))\n",
    "        solution_paths_dict[year][day] = [str(s) for s in solutions]\n",
    "\n",
    "        for code_dir in get_paths_matching_regex(day_dir, CODE_PATTERN):\n",
    "            code = 'code'\n",
    "            solutions = sorted(find_recursive_solution_files(code_dir))\n",
    "\n",
    "            # To filter by extension:\n",
    "            # solutions = [s for s in solutions if s.suffix == \".py\"]\n",
    "\n",
    "            # To only show a single solution:\n",
    "            # solutions = [solutions[0]]\n",
    "\n",
    "            # To show tiles for days that have been completed but do not have a solution:\n",
    "            #if len(solutions) == 0:\n",
    "            #     solutions = [Path(\"dummy.kt\")]\n",
    "\n",
    "            solutions = [solution.relative_to(AOC_DIR) for solution in solutions]\n",
    "\n",
    "            solution_paths_dict[year][day][code] = [str(s) for s in solutions]\n",
    "\n",
    "            # To filter by extension:\n",
    "            # solutions = [s for s in solutions if s.suffix == \".py\"]\n",
    "\n",
    "            # To only show a single solution:\n",
    "            # solutions = [solutions[0]]\n",
    "\n",
    "            # To show tiles for days that have been completed but do not have a solution:\n",
    "            #if len(solutions) == 0:\n",
    "            #     solutions = [Path(\"dummy.kt\")]\n"
   ]
  },
  {
   "cell_type": "code",
   "execution_count": null,
   "metadata": {},
   "outputs": [
    {
     "ename": "NameError",
     "evalue": "name 'code' is not defined",
     "output_type": "error",
     "traceback": [
      "\u001b[0;31m---------------------------------------------------------------------------\u001b[0m",
      "\u001b[0;31mNameError\u001b[0m                                 Traceback (most recent call last)",
      "Cell \u001b[0;32mIn[55], line 1\u001b[0m\n\u001b[0;32m----> 1\u001b[0m \u001b[39mprint\u001b[39m(code)\n\u001b[1;32m      2\u001b[0m \u001b[39mprint\u001b[39m(solutions)\n\u001b[1;32m      3\u001b[0m \u001b[39mprint\u001b[39m(solution_paths_dict)\n",
      "\u001b[0;31mNameError\u001b[0m: name 'code' is not defined"
     ]
    }
   ],
   "source": [
    "print(code)\n",
    "print(solutions)\n",
    "print(solution_paths_dict)"
   ]
  },
  {
   "cell_type": "code",
   "execution_count": null,
   "metadata": {},
   "outputs": [],
   "source": []
  }
 ],
 "metadata": {
  "kernelspec": {
   "display_name": "Python 3.11.0 64-bit",
   "language": "python",
   "name": "python3"
  },
  "language_info": {
   "codemirror_mode": {
    "name": "ipython",
    "version": 3
   },
   "file_extension": ".py",
   "mimetype": "text/x-python",
   "name": "python",
   "nbconvert_exporter": "python",
   "pygments_lexer": "ipython3",
   "version": "3.11.0"
  },
  "orig_nbformat": 4,
  "vscode": {
   "interpreter": {
    "hash": "aee8b7b246df8f9039afb4144a1f6fd8d2ca17a180786b69acc140d282b71a49"
   }
  }
 },
 "nbformat": 4,
 "nbformat_minor": 2
}
